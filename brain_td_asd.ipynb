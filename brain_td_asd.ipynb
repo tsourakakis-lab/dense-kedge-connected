{
 "cells": [
  {
   "cell_type": "code",
   "execution_count": 1,
   "metadata": {},
   "outputs": [],
   "source": [
    "import time\n",
    "from utils import *\n",
    "import pandas as pd\n",
    "import random, os\n",
    "import networkx as nx\n",
    "plt.rcParams.update({'font.size': 15})"
   ]
  },
  {
   "cell_type": "code",
   "execution_count": 2,
   "metadata": {},
   "outputs": [],
   "source": [
    "global it, level\n",
    "\n",
    "sys.setrecursionlimit(20000)\n",
    "\n",
    "def k_conn_min_deg_aux_min1(G, H, k, verbose=False, pre_min_deg=0):\n",
    "    if verbose:\n",
    "        global it, level\n",
    "        it = it + 1\n",
    "        level = level + 1\n",
    "        print'  ' * level, \"iteration =\", it, \"level =\", level, \"nodes =\", len(G.nodes()), len(H.nodes())    \n",
    "        print'  ' * level, \"Computing %i-connected components...\" % k\n",
    "        \n",
    "    if len(G.nodes)==0:\n",
    "        return []\n",
    "    cn = nx.core_number(H)\n",
    "    deg = min(cn.values())\n",
    "    if deg<=pre_min_deg:\n",
    "        others = [ v for (v, i) in cn.iteritems() if i > pre_min_deg ]\n",
    "        subgraphs = ([], k_conn_min_deg_aux_min1(G.subgraph(others), H.subgraph(others), k, verbose=verbose, pre_min_deg=pre_min_deg))\n",
    "    else:\n",
    "        \n",
    "        comps = k_connected_components(G, k)\n",
    "        if verbose: print(\"done\")\n",
    "\n",
    "        if comps == []:                 \n",
    "            # No k-connected component: no solution\n",
    "            return []                      \n",
    "        elif len(comps) > 1 or len(comps[0]) != G.number_of_nodes():                   \n",
    "            # G is not k-connected\n",
    "            subgraphs = ( k_conn_min_deg_aux_min1(G.subgraph(c), H.subgraph(c), k, verbose=verbose, pre_min_deg=pre_min_deg) for c in comps )    \n",
    "        else:                                   \n",
    "            # G is k-connected\n",
    "            # Remove the lowest core. This is better than just removing the lowest-degree vertex as it\n",
    "            # avoids many useless computations of k-conected components\n",
    "  \n",
    "            others = [ v for (v, i) in cn.iteritems() if i > deg ]\n",
    "            if verbose:\n",
    "                print '  ' * level, 'connected component found', len(G.nodes()), min_deg(H), deg, len(others), max(cn.values())\n",
    "            subgraphs = ( H.nodes(), k_conn_min_deg_aux_min1(G.subgraph(others), H.subgraph(others), k, verbose=verbose, pre_min_deg=deg) )\n",
    "    subgraphs = [subgraph for subgraph in subgraphs if min_deg(H.subgraph(subgraph))>=1]\n",
    "    if len(subgraphs)==0:\n",
    "        return []\n",
    "    # Return the best (highest min-degree) solution among those in subgraphs. Break ties by density.\n",
    "    return max(subgraphs, key=lambda S: len(S) )                \n",
    "        \n",
    "def k_conn_min_deg_min1(G, H, k, verbose=False):    \n",
    "    if verbose:\n",
    "        global it, level\n",
    "        it, level = 0, 0\n",
    "    S = k_conn_min_deg_aux_min1(G, H.copy(), k, verbose=verbose)\n",
    "    GS, HS, mindeg = G.subgraph(S), H.subgraph(S), min_deg(H.subgraph(S))\n",
    "    assert GS.nodes() == HS.nodes()\n",
    "    if verbose: print \"size(S) =\", len(S)\n",
    "    assert S == [] or is_k_connected(G.subgraph(S), k)\n",
    "    return S, mindeg"
   ]
  },
  {
   "cell_type": "code",
   "execution_count": null,
   "metadata": {},
   "outputs": [],
   "source": []
  },
  {
   "cell_type": "code",
   "execution_count": 49,
   "metadata": {
    "scrolled": true
   },
   "outputs": [
    {
     "name": "stdout",
     "output_type": "stream",
     "text": [
      "k= 14\n",
      "children\n",
      "Yale_0050576.txt\n",
      "Stanford_0051180.txt\n",
      "KKI_0050781.txt\n",
      "SDSU_0050206.txt\n",
      "OHSU_0050163.txt\n",
      "KKI_0050786.txt\n",
      "NYU_0051036.txt\n",
      "USM_0050453.txt\n",
      "UM_1_0050366.txt\n",
      "NYU_0051079.txt\n",
      "NYU_0051039.txt\n",
      "NYU_0051082.txt\n",
      "NYU_0051083.txt\n",
      "NYU_0051041.txt\n",
      "Stanford_0051190.txt\n",
      "NYU_0051084.txt\n",
      "NYU_0051081.txt\n",
      "NYU_0051038.txt\n",
      "KKI_0050784.txt\n",
      "Yale_0050554.txt\n",
      "MaxMun_d_0051360.txt\n",
      "KKI_0050777.txt\n",
      "Stanford_0051181.txt\n",
      "Stanford_0051187.txt\n",
      "Yale_0050560.txt\n",
      "KKI_0050820.txt\n",
      "NYU_0051078.txt\n",
      "KKI_0050776.txt\n",
      "NYU_0051042.txt\n",
      "Stanford_0051184.txt\n",
      "NYU_0051040.txt\n",
      "NYU_0051064.txt\n",
      "Stanford_0051188.txt\n",
      "UCLA_1_0051278.txt\n",
      "Pitt_0050054.txt\n",
      "KKI_0050779.txt\n",
      "KKI_0050789.txt\n",
      "NYU_0051069.txt\n",
      "OHSU_0050164.txt\n",
      "UM_1_0050376.txt\n",
      "Stanford_0051183.txt\n",
      "NYU_0051070.txt\n",
      "KKI_0050790.txt\n",
      "KKI_0050814.txt\n",
      "Yale_0050564.txt\n",
      "OHSU_0050161.txt\n",
      "OHSU_0050166.txt\n",
      "Stanford_0051185.txt\n",
      "Stanford_0051186.txt\n",
      "NYU_0051080.txt\n",
      "Stanford_0051189.txt\n",
      "OHSU_0050162.txt\n"
     ]
    }
   ],
   "source": [
    "results = []\n",
    "x1 = []\n",
    "x2 = []\n",
    "for k in [14]:\n",
    "    print 'k=', k\n",
    "    for cate in ['children']:\n",
    "        print cate\n",
    "        asds = os.listdir('data/'+cate+'/asd/')\n",
    "        tds = os.listdir('data/'+cate+'/td/')\n",
    "        sizes = [[], [], [], []]\n",
    "        mindegs = [[], [], [], []]\n",
    "        for g1 in tds:\n",
    "            for g2 in tds:\n",
    "                if g1==g2:\n",
    "                    continue\n",
    "                \n",
    "\n",
    "                G1 = nx.from_pandas_adjacency(pd.read_csv('data/'+cate+'/td/'+g1, delimiter=' ', header=None))\n",
    "                G2 = nx.from_pandas_adjacency(pd.read_csv('data/'+cate+'/td/'+g2, delimiter=' ', header=None))\n",
    "                G1.remove_edges_from(nx.selfloop_edges(G1))\n",
    "                G2.remove_edges_from(nx.selfloop_edges(G2))\n",
    "                \n",
    "                S, mindeg = k_conn_min_deg_min1(G2, G1, k, verbose=False)\n",
    "                sizes[1].append(len(S))\n",
    "                mindegs[1].append(mindeg)\n",
    "                x1.append(len(S))\n",
    "                \n",
    "            for g3 in asds:\n",
    "                G3 = nx.from_pandas_adjacency(pd.read_csv('../data/'+cate+'/asd/'+g3, delimiter=' ', header=None))\n",
    "                G3.remove_edges_from(nx.selfloop_edges(G3))\n",
    "\n",
    "#             S, mindeg = k_conn_min_deg_min1(G1, G2, k, verbose=False)\n",
    "#             sizes[0].append(len(S))\n",
    "#             mindegs[0].append(mindeg)\n",
    "\n",
    "                S, mindeg = k_conn_min_deg_min1(G3, G1, k, verbose=False)\n",
    "                sizes[2].append(len(S))\n",
    "                mindegs[2].append(mindeg)\n",
    "                x2.append(len(S))\n",
    "\n",
    "#             S, mindeg = k_conn_min_deg_min1(G1, G3, k, verbose=False)\n",
    "#             sizes[3].append(len(S))\n",
    "#             mindegs[3].append(mindeg)\n",
    "            print g1\n",
    "#         results.append([np.average(sizes[0]), np.average(sizes[1]), np.average(sizes[2]), np.average(sizes[3])])\n",
    "#         print np.average(sizes[0]), np.average(sizes[1]), np.average(sizes[2]), np.average(sizes[3])\n",
    "#         print np.average(mindegs[0]), np.average(mindegs[1]), np.average(mindegs[2]), np.average(mindegs[3])\n"
   ]
  },
  {
   "cell_type": "code",
   "execution_count": 50,
   "metadata": {},
   "outputs": [
    {
     "data": {
      "text/plain": [
       "(94.98567119155355, 89.8936420722135)"
      ]
     },
     "execution_count": 50,
     "metadata": {},
     "output_type": "execute_result"
    }
   ],
   "source": [
    "np.average(x1), np.average(x2)"
   ]
  },
  {
   "cell_type": "code",
   "execution_count": 89,
   "metadata": {},
   "outputs": [
    {
     "data": {
      "image/png": "[encoded data removed]",
      "text/plain": [
       "<Figure size 432x288 with 1 Axes>"
      ]
     },
     "metadata": {
      "needs_background": "light"
     },
     "output_type": "display_data"
    }
   ],
   "source": [
    "# fig = plt.figure(figsize =(6, 4)) \n",
    "  \n",
    "# # # Creating axes instance \n",
    "# ax = fig.add_axes([0, 0, 1, 1]) \n",
    "data = [x1, x2]\n",
    "# Creating plot \n",
    "plt.boxplot(data) \n",
    "plt.xticks([1,2],['(TD, TD)', '(ASD, TD)']) \n",
    "plt.ylabel(r'$|S^*|$')\n",
    "# show plot \n",
    "plt.tight_layout()\n",
    "plt.savefig('brain_k=14.png')\n",
    "plt.show() "
   ]
  },
  {
   "cell_type": "code",
   "execution_count": 53,
   "metadata": {
    "scrolled": true
   },
   "outputs": [
    {
     "name": "stdout",
     "output_type": "stream",
     "text": [
      "k= 14\n",
      "children\n",
      "UCLA_1_0051213.txt\n",
      "Stanford_0051175.txt\n",
      "KKI_0050802.txt\n",
      "KKI_0050792.txt\n",
      "UCLA_1_0051228.txt\n",
      "KKI_0050803.txt\n",
      "NYU_0051032.txt\n",
      "NYU_0051011.txt\n",
      "MaxMun_c_0051348.txt\n",
      "Stanford_0051173.txt\n",
      "Stanford_0051164.txt\n",
      "Stanford_0051163.txt\n",
      "NYU_0051013.txt\n",
      "NYU_0051003.txt\n",
      "NYU_0050965.txt\n",
      "Yale_0050609.txt\n",
      "KKI_0050795.txt\n",
      "Pitt_0050013.txt\n",
      "NYU_0050987.txt\n",
      "NYU_0051010.txt\n",
      "NYU_0050977.txt\n",
      "UCLA_1_0051226.txt\n",
      "OHSU_0050146.txt\n",
      "MaxMun_d_0051353.txt\n",
      "Stanford_0051160.txt\n",
      "UCLA_1_0051249.txt\n",
      "Yale_0050615.txt\n",
      "Stanford_0051161.txt\n",
      "KKI_0050825.txt\n",
      "NYU_0050969.txt\n",
      "Stanford_0051166.txt\n",
      "KKI_0050804.txt\n",
      "OHSU_0050150.txt\n",
      "UM_1_0050308.txt\n",
      "Yale_0050625.txt\n",
      "Stanford_0051162.txt\n",
      "Stanford_0051172.txt\n",
      "MaxMun_d_0051352.txt\n",
      "NYU_0050970.txt\n",
      "NYU_0050952.txt\n",
      "NYU_0051030.txt\n",
      "KKI_0050793.txt\n",
      "UM_1_0050318.txt\n",
      "NYU_0050979.txt\n",
      "UM_1_0050306.txt\n",
      "NYU_0050982.txt\n",
      "Yale_0050617.txt\n",
      "NYU_0051002.txt\n",
      "NYU_0050986.txt\n"
     ]
    }
   ],
   "source": [
    "results = []\n",
    "x3 = []\n",
    "x4 = []\n",
    "for k in [14]:\n",
    "    print 'k=', k\n",
    "#     'adolescents', 'eyesclosed', 'male', 'children'\n",
    "    for cate in ['children']:\n",
    "        print cate\n",
    "        asds = os.listdir('data/'+cate+'/asd/')\n",
    "        tds = os.listdir('data/'+cate+'/td/')\n",
    "        sizes = [[], [], [], []]\n",
    "        mindegs = [[], [], [], []]\n",
    "        for g1 in asds:\n",
    "            for g2 in asds:\n",
    "                if g1==g2:\n",
    "                    continue\n",
    "                \n",
    "\n",
    "                G1 = nx.from_pandas_adjacency(pd.read_csv('data/'+cate+'/asd/'+g1, delimiter=' ', header=None))\n",
    "                G2 = nx.from_pandas_adjacency(pd.read_csv('data/'+cate+'/asd/'+g2, delimiter=' ', header=None))\n",
    "                G1.remove_edges_from(nx.selfloop_edges(G1))\n",
    "                G2.remove_edges_from(nx.selfloop_edges(G2))\n",
    "                \n",
    "                S, mindeg = k_conn_min_deg_min1(G2, G1, k, verbose=False)\n",
    "                sizes[1].append(len(S))\n",
    "                mindegs[1].append(mindeg)\n",
    "                x3.append(len(S))\n",
    "                \n",
    "            for g3 in tds:\n",
    "                G3 = nx.from_pandas_adjacency(pd.read_csv('../data/'+cate+'/td/'+g3, delimiter=' ', header=None))\n",
    "                G3.remove_edges_from(nx.selfloop_edges(G3))\n",
    "\n",
    "#             S, mindeg = k_conn_min_deg_min1(G1, G2, k, verbose=False)\n",
    "#             sizes[0].append(len(S))\n",
    "#             mindegs[0].append(mindeg)\n",
    "\n",
    "                S, mindeg = k_conn_min_deg_min1(G3, G1, k, verbose=False)\n",
    "                sizes[2].append(len(S))\n",
    "                mindegs[2].append(mindeg)\n",
    "                x4.append(len(S))\n",
    "\n",
    "#             S, mindeg = k_conn_min_deg_min1(G1, G3, k, verbose=False)\n",
    "#             sizes[3].append(len(S))\n",
    "#             mindegs[3].append(mindeg)\n",
    "            print g1\n",
    "#         results.append([np.average(sizes[0]), np.average(sizes[1]), np.average(sizes[2]), np.average(sizes[3])])\n",
    "#         print np.average(sizes[0]), np.average(sizes[1]), np.average(sizes[2]), np.average(sizes[3])\n",
    "#         print np.average(mindegs[0]), np.average(mindegs[1]), np.average(mindegs[2]), np.average(mindegs[3])\n"
   ]
  },
  {
   "cell_type": "code",
   "execution_count": 90,
   "metadata": {},
   "outputs": [
    {
     "data": {
      "image/png": "[encoded data removed]",
      "text/plain": [
       "<Figure size 432x288 with 1 Axes>"
      ]
     },
     "metadata": {
      "needs_background": "light"
     },
     "output_type": "display_data"
    }
   ],
   "source": [
    "# fig = plt.figure(figsize =(6, 4)) \n",
    "  \n",
    "# # # Creating axes instance \n",
    "# ax = fig.add_axes([0, 0, 1, 1]) \n",
    "data = [x3, x4]\n",
    "# Creating plot \n",
    "plt.boxplot(data) \n",
    "plt.xticks([1,2],['(TD, TD)', '(ASD, TD)']) \n",
    "plt.ylabel(r'$|S^*|$')\n",
    "# show plot \n",
    "plt.tight_layout()\n",
    "plt.savefig('brain_k=15.png')\n",
    "plt.show() "
   ]
  },
  {
   "cell_type": "code",
   "execution_count": 56,
   "metadata": {},
   "outputs": [
    {
     "data": {
      "text/plain": [
       "(94.98567119155355, 89.8936420722135, 89.89838435374149, 94.98979591836735)"
      ]
     },
     "execution_count": 56,
     "metadata": {},
     "output_type": "execute_result"
    }
   ],
   "source": [
    "np.average(x1), np.average(x2), np.average(x3), np.average(x4)"
   ]
  },
  {
   "cell_type": "code",
   "execution_count": 60,
   "metadata": {},
   "outputs": [
    {
     "data": {
      "image/png": "[encoded data removed]",
      "text/plain": [
       "<Figure size 432x288 with 1 Axes>"
      ]
     },
     "metadata": {
      "needs_background": "light"
     },
     "output_type": "display_data"
    }
   ],
   "source": [
    "x5 = [116]\n",
    "data = [x1, x2, x3, x4, x5]\n",
    "# Creating plot \n",
    "plt.boxplot(data) \n",
    "plt.xticks([1,2,3,4,5],['(TD, TD)', '(ASD, TD)', '(ASD, ASD)', '(TD, ASD)', 'kCCO'], rotation=45) \n",
    "plt.ylabel(r'$|S^*|$')\n",
    "# show plot \n",
    "plt.tight_layout()\n",
    "plt.savefig('brain_k=14_full.png')\n",
    "plt.show() "
   ]
  },
  {
   "cell_type": "code",
   "execution_count": 62,
   "metadata": {},
   "outputs": [
    {
     "data": {
      "image/png": "[encoded data removed]",
      "text/plain": [
       "<Figure size 432x288 with 1 Axes>"
      ]
     },
     "metadata": {
      "needs_background": "light"
     },
     "output_type": "display_data"
    }
   ],
   "source": [
    "x5 = [116]\n",
    "data = [x1, x2, x5]\n",
    "# Creating plot \n",
    "plt.boxplot(data) \n",
    "plt.xticks([1,2,3],['(TD, TD)', '(ASD, TD)', 'kCCO']) \n",
    "plt.ylabel(r'$|S^*|$')\n",
    "# show plot \n",
    "plt.tight_layout()\n",
    "plt.savefig('brain_k=14.png')\n",
    "plt.show() "
   ]
  },
  {
   "cell_type": "code",
   "execution_count": 64,
   "metadata": {},
   "outputs": [
    {
     "name": "stdout",
     "output_type": "stream",
     "text": [
      "children\n"
     ]
    }
   ],
   "source": [
    "len1 = []\n",
    "len2 = []\n",
    "for cate in ['children']:\n",
    "    print cate\n",
    "    asds = os.listdir('data/'+cate+'/asd/')\n",
    "    tds = os.listdir('data/'+cate+'/td/')\n",
    "    sizes = [[], [], [], []]\n",
    "    mindegs = [[], [], [], []]\n",
    "    for g1 in asds:\n",
    "        G1 = nx.from_pandas_adjacency(pd.read_csv('data/'+cate+'/asd/'+g1, delimiter=' ', header=None))\n",
    "        G1.remove_edges_from(nx.selfloop_edges(G1))\n",
    "        comps = k_connected_components(G1, 14)\n",
    "        len1.append(len(comps[0]))\n",
    "    for g2 in tds:\n",
    "        G2 = nx.from_pandas_adjacency(pd.read_csv('data/'+cate+'/td/'+g2, delimiter=' ', header=None))\n",
    "        G2.remove_edges_from(nx.selfloop_edges(G2))\n",
    "        comps = k_connected_components(G2, 14)\n",
    "        len2.append(len(comps[0]))"
   ]
  },
  {
   "cell_type": "code",
   "execution_count": 65,
   "metadata": {},
   "outputs": [
    {
     "data": {
      "text/plain": [
       "(89.79591836734694, 94.9423076923077)"
      ]
     },
     "execution_count": 65,
     "metadata": {},
     "output_type": "execute_result"
    }
   ],
   "source": [
    "np.average(len1), np.average(len2)"
   ]
  },
  {
   "cell_type": "code",
   "execution_count": null,
   "metadata": {},
   "outputs": [],
   "source": []
  },
  {
   "cell_type": "code",
   "execution_count": null,
   "metadata": {},
   "outputs": [],
   "source": []
  }
 ],
 "metadata": {
  "kernelspec": {
   "display_name": "p2opt",
   "language": "python",
   "name": "p2opt"
  },
  "language_info": {
   "codemirror_mode": {
    "name": "ipython",
    "version": 2
   },
   "file_extension": ".py",
   "mimetype": "text/x-python",
   "name": "python",
   "nbconvert_exporter": "python",
   "pygments_lexer": "ipython2",
   "version": "2.7.18"
  }
 },
 "nbformat": 4,
 "nbformat_minor": 4
}
